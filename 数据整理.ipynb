{
 "cells": [
  {
   "attachments": {},
   "cell_type": "markdown",
   "metadata": {},
   "source": [
    "医院感染数据整理"
   ]
  },
  {
   "cell_type": "code",
   "execution_count": 24,
   "metadata": {},
   "outputs": [],
   "source": [
    "import pandas as pd \n",
    "import numpy as np\n",
    "\n",
    "# matplotlib、seaborn、plotly都是绘图工具\n",
    "import matplotlib.pyplot as plt\n",
    "import seaborn as sns\n",
    "import plotly.graph_objects as go \n",
    "import plotly.express as px\n",
    "import warnings\n",
    "warnings.filterwarnings('ignore')\n",
    "\n",
    "# 指定字体\n",
    "import matplotlib.pyplot as plt\n",
    "import matplotlib.font_manager as fm\n",
    "\n",
    "\n",
    "font_path = 'C:\\Windows\\Fonts\\msyh.ttc'  # 微软雅黑\n",
    "font_prop = fm.FontProperties(fname=font_path, size=12)\n",
    "\n",
    "en_font_path = 'C:\\Windows\\Fonts\\TIMES.TTF'  # 新罗马字体 数字用\n",
    "en_font_prop = fm.FontProperties(fname=en_font_path, size=12)\n",
    "\n",
    "\n",
    "\n",
    "\n",
    "# --- Importing Libraries ---\n",
    "import numpy as np\n",
    "import pandas as pd\n",
    "import matplotlib.pyplot as plt\n",
    "import matplotlib.patches as mpatches\n",
    "import seaborn as sns\n",
    "import warnings\n",
    "import os\n",
    "import yellowbrick\n",
    "import joblib\n",
    "\n",
    "\n",
    "from pywaffle import Waffle\n",
    "from statsmodels.graphics.gofplots import qqplot\n",
    "from PIL import Image\n",
    "from highlight_text import fig_text\n",
    "from sklearn.pipeline import Pipeline\n",
    "from sklearn.compose import ColumnTransformer\n",
    "from sklearn.preprocessing import RobustScaler, OneHotEncoder \n",
    "from sklearn.model_selection import train_test_split, GridSearchCV\n",
    "from sklearn.linear_model import LogisticRegression\n",
    "from sklearn.neighbors import KNeighborsClassifier\n",
    "from sklearn.svm import SVC\n",
    "from sklearn.naive_bayes import GaussianNB\n",
    "from sklearn.tree import DecisionTreeClassifier\n",
    "from sklearn.ensemble import RandomForestClassifier, GradientBoostingClassifier, AdaBoostClassifier, ExtraTreesClassifier\n",
    "import lightgbm as lgb\n",
    "from sklearn.metrics import classification_report, accuracy_score\n",
    "from yellowbrick.classifier import PrecisionRecallCurve, ROCAUC, ConfusionMatrix\n",
    "from yellowbrick.model_selection import LearningCurve, FeatureImportances\n",
    "from yellowbrick.contrib.wrapper import wrap\n",
    "from yellowbrick.style import set_palette\n",
    "\n",
    "from catboost import CatBoostClassifier\n",
    "import optuna\n",
    "from sklearn.model_selection import cross_val_score"
   ]
  },
  {
   "attachments": {},
   "cell_type": "markdown",
   "metadata": {},
   "source": [
    "导入数据"
   ]
  },
  {
   "cell_type": "code",
   "execution_count": 25,
   "metadata": {},
   "outputs": [
    {
     "data": {
      "text/html": [
       "<div>\n",
       "<style scoped>\n",
       "    .dataframe tbody tr th:only-of-type {\n",
       "        vertical-align: middle;\n",
       "    }\n",
       "\n",
       "    .dataframe tbody tr th {\n",
       "        vertical-align: top;\n",
       "    }\n",
       "\n",
       "    .dataframe thead th {\n",
       "        text-align: right;\n",
       "    }\n",
       "</style>\n",
       "<table border=\"1\" class=\"dataframe\">\n",
       "  <thead>\n",
       "    <tr style=\"text-align: right;\">\n",
       "      <th></th>\n",
       "      <th>感染</th>\n",
       "      <th>性别</th>\n",
       "      <th>年龄</th>\n",
       "      <th>身高</th>\n",
       "      <th>体重</th>\n",
       "      <th>BMI</th>\n",
       "      <th>高血压</th>\n",
       "      <th>糖尿病</th>\n",
       "      <th>肿瘤</th>\n",
       "      <th>并发症种类</th>\n",
       "      <th>...</th>\n",
       "      <th>钠</th>\n",
       "      <th>氯</th>\n",
       "      <th>总二氧化碳浓度</th>\n",
       "      <th>手术时长</th>\n",
       "      <th>切口类型</th>\n",
       "      <th>有无进重症室</th>\n",
       "      <th>抗菌药物使用</th>\n",
       "      <th>联合用药</th>\n",
       "      <th>治疗用药已送细菌培养</th>\n",
       "      <th>住院天数</th>\n",
       "    </tr>\n",
       "  </thead>\n",
       "  <tbody>\n",
       "    <tr>\n",
       "      <th>0</th>\n",
       "      <td>否</td>\n",
       "      <td>男</td>\n",
       "      <td>50</td>\n",
       "      <td>173.0</td>\n",
       "      <td>65.0</td>\n",
       "      <td>21.72</td>\n",
       "      <td>否</td>\n",
       "      <td>否</td>\n",
       "      <td>否</td>\n",
       "      <td>1</td>\n",
       "      <td>...</td>\n",
       "      <td>133.1</td>\n",
       "      <td>95.6</td>\n",
       "      <td>27.6</td>\n",
       "      <td>0.0</td>\n",
       "      <td>0</td>\n",
       "      <td>否</td>\n",
       "      <td>是</td>\n",
       "      <td>二联</td>\n",
       "      <td>是</td>\n",
       "      <td>31</td>\n",
       "    </tr>\n",
       "    <tr>\n",
       "      <th>1</th>\n",
       "      <td>否</td>\n",
       "      <td>男</td>\n",
       "      <td>24</td>\n",
       "      <td>173.0</td>\n",
       "      <td>73.0</td>\n",
       "      <td>24.39</td>\n",
       "      <td>否</td>\n",
       "      <td>否</td>\n",
       "      <td>否</td>\n",
       "      <td>1</td>\n",
       "      <td>...</td>\n",
       "      <td>134.8</td>\n",
       "      <td>98.6</td>\n",
       "      <td>25.8</td>\n",
       "      <td>0.0</td>\n",
       "      <td>0</td>\n",
       "      <td>否</td>\n",
       "      <td>否</td>\n",
       "      <td>无</td>\n",
       "      <td>否</td>\n",
       "      <td>27</td>\n",
       "    </tr>\n",
       "    <tr>\n",
       "      <th>2</th>\n",
       "      <td>否</td>\n",
       "      <td>男</td>\n",
       "      <td>49</td>\n",
       "      <td>180.0</td>\n",
       "      <td>80.0</td>\n",
       "      <td>24.69</td>\n",
       "      <td>否</td>\n",
       "      <td>否</td>\n",
       "      <td>否</td>\n",
       "      <td>1</td>\n",
       "      <td>...</td>\n",
       "      <td>142.4</td>\n",
       "      <td>108.0</td>\n",
       "      <td>25.4</td>\n",
       "      <td>2.0</td>\n",
       "      <td>1</td>\n",
       "      <td>否</td>\n",
       "      <td>否</td>\n",
       "      <td>无</td>\n",
       "      <td>否</td>\n",
       "      <td>5</td>\n",
       "    </tr>\n",
       "    <tr>\n",
       "      <th>3</th>\n",
       "      <td>否</td>\n",
       "      <td>男</td>\n",
       "      <td>30</td>\n",
       "      <td>160.0</td>\n",
       "      <td>95.0</td>\n",
       "      <td>37.11</td>\n",
       "      <td>是</td>\n",
       "      <td>否</td>\n",
       "      <td>否</td>\n",
       "      <td>1</td>\n",
       "      <td>...</td>\n",
       "      <td>140.1</td>\n",
       "      <td>105.7</td>\n",
       "      <td>24.1</td>\n",
       "      <td>3.0</td>\n",
       "      <td>2</td>\n",
       "      <td>否</td>\n",
       "      <td>是</td>\n",
       "      <td>二联</td>\n",
       "      <td>否</td>\n",
       "      <td>16</td>\n",
       "    </tr>\n",
       "    <tr>\n",
       "      <th>4</th>\n",
       "      <td>否</td>\n",
       "      <td>男</td>\n",
       "      <td>55</td>\n",
       "      <td>170.0</td>\n",
       "      <td>70.0</td>\n",
       "      <td>24.22</td>\n",
       "      <td>否</td>\n",
       "      <td>否</td>\n",
       "      <td>否</td>\n",
       "      <td>2</td>\n",
       "      <td>...</td>\n",
       "      <td>140.8</td>\n",
       "      <td>104.8</td>\n",
       "      <td>24.0</td>\n",
       "      <td>1.5</td>\n",
       "      <td>1</td>\n",
       "      <td>否</td>\n",
       "      <td>否</td>\n",
       "      <td>无</td>\n",
       "      <td>否</td>\n",
       "      <td>4</td>\n",
       "    </tr>\n",
       "  </tbody>\n",
       "</table>\n",
       "<p>5 rows × 61 columns</p>\n",
       "</div>"
      ],
      "text/plain": [
       "  感染 性别  年龄     身高    体重    BMI 高血压 糖尿病 肿瘤  并发症种类  ...      钠      氯  总二氧化碳浓度  \\\n",
       "0  否  男  50  173.0  65.0  21.72   否   否  否      1  ...  133.1   95.6     27.6   \n",
       "1  否  男  24  173.0  73.0  24.39   否   否  否      1  ...  134.8   98.6     25.8   \n",
       "2  否  男  49  180.0  80.0  24.69   否   否  否      1  ...  142.4  108.0     25.4   \n",
       "3  否  男  30  160.0  95.0  37.11   是   否  否      1  ...  140.1  105.7     24.1   \n",
       "4  否  男  55  170.0  70.0  24.22   否   否  否      2  ...  140.8  104.8     24.0   \n",
       "\n",
       "   手术时长  切口类型  有无进重症室  抗菌药物使用 联合用药  治疗用药已送细菌培养  住院天数  \n",
       "0   0.0     0       否       是   二联           是    31  \n",
       "1   0.0     0       否       否    无           否    27  \n",
       "2   2.0     1       否       否    无           否     5  \n",
       "3   3.0     2       否       是   二联           否    16  \n",
       "4   1.5     1       否       否    无           否     4  \n",
       "\n",
       "[5 rows x 61 columns]"
      ]
     },
     "execution_count": 25,
     "metadata": {},
     "output_type": "execute_result"
    }
   ],
   "source": [
    "df = pd.read_excel(\"D:/study/2023/infection/data/填补后数据.xlsx\")\n",
    "df.head()"
   ]
  },
  {
   "cell_type": "code",
   "execution_count": 26,
   "metadata": {},
   "outputs": [],
   "source": [
    "\n",
    "# 统计缺失值数量\n",
    "missing=df.isnull().sum().reset_index().rename(columns={0:'missNum'})\n",
    "# 计算缺失比例\n",
    "missing['missRate']=missing['missNum']/df.shape[0]\n",
    "# 按照缺失率排序显示\n",
    "miss_analy=missing[missing.missRate>0].sort_values(by='missRate',ascending=False)\n",
    "# miss_analy 存储的是每个变量缺失情况的数据框"
   ]
  },
  {
   "cell_type": "code",
   "execution_count": 27,
   "metadata": {},
   "outputs": [
    {
     "data": {
      "text/plain": [
       "感染\n",
       "否    1266\n",
       "是      50\n",
       "Name: count, dtype: int64"
      ]
     },
     "execution_count": 27,
     "metadata": {},
     "output_type": "execute_result"
    }
   ],
   "source": [
    "#查看结局分部\n",
    "df.感染.value_counts()"
   ]
  },
  {
   "attachments": {},
   "cell_type": "markdown",
   "metadata": {},
   "source": [
    "缺失值柱状图可视化"
   ]
  },
  {
   "attachments": {},
   "cell_type": "markdown",
   "metadata": {},
   "source": [
    "数据类型处理"
   ]
  },
  {
   "cell_type": "code",
   "execution_count": 28,
   "metadata": {},
   "outputs": [
    {
     "name": "stdout",
     "output_type": "stream",
     "text": [
      "['感染', '性别', '年龄', '身高', '体重', 'BMI', '高血压', '糖尿病', '肿瘤', '并发症种类', '吸烟', '饮酒', '体温', '脉搏', '呼吸', '收缩压', '舒张压', '睡眠情况', '睡眠时间', '营养筛查NRS', '有创操作', '泌尿道插管', '气管插管', '动静脉导管', '血培养', '尿常规', '大便常规', '细菌培养', '白细胞', '中性粒细胞绝对值', '淋巴细胞绝对值', '红细胞', '血红蛋白', '血小板', '降钙素原', '血清白细胞介素6', '总蛋白', '白蛋白', '球蛋白', '白蛋白球蛋白比', '谷丙转氨酶', '谷草转氨酶', '总胆红素', '直接胆红素', '间接胆红素', '碱性磷酸酶', 'r.谷氨酰基转移酶', '尿素氮', '肌酐', '尿酸', '钾', '钠', '氯', '总二氧化碳浓度', '手术时长', '切口类型', '有无进重症室', '抗菌药物使用', '联合用药', '治疗用药已送细菌培养', '住院天数']\n"
     ]
    }
   ],
   "source": [
    "# 获取所有列名\n",
    "column_names = df.columns.tolist()\n",
    "\n",
    "# 打印列名\n",
    "print(column_names)"
   ]
  },
  {
   "attachments": {},
   "cell_type": "markdown",
   "metadata": {},
   "source": []
  },
  {
   "cell_type": "code",
   "execution_count": 29,
   "metadata": {},
   "outputs": [
    {
     "data": {
      "text/plain": [
       "array(['否', '是'], dtype=object)"
      ]
     },
     "execution_count": 29,
     "metadata": {},
     "output_type": "execute_result"
    }
   ],
   "source": [
    "df['感染'].unique()"
   ]
  },
  {
   "cell_type": "code",
   "execution_count": 30,
   "metadata": {},
   "outputs": [],
   "source": [
    "cat_var =[\"性别\" , \"高血压\" ,\"糖尿病\" , \"肿瘤\" , \"吸烟\" , \"饮酒\"  , \"睡眠情况\",\"有创操作\"  ,   \"泌尿道插管\" ,  \n",
    "        \"气管插管\",\"动静脉导管\", \"血培养\"  , \"尿常规\"    ,  \"大便常规\", \"细菌培养\" ,\"降钙素原\"  , \"血清白细胞介素6\", \"切口类型\"  , \"有无进重症室\",  \"抗菌药物使用\"  ,  \n",
    "        \"联合用药\", \"治疗用药已送细菌培养\"]\n",
    "\n",
    "num_var= [\"年龄\" , \"身高\" ,\"体重\"  , \"BMI\" , \"并发症种类\" ,\"体温\", \"脉搏\",\"呼吸\",\"收缩压\"  ,\"舒张压\",\n",
    "           \"睡眠时间\" ,\"营养筛查NRS\",\"白细胞\",\"中性粒细胞绝对值\" ,\"淋巴细胞绝对值\",\"红细胞\",\"血红蛋白\" ,\"血小板\" ,\n",
    "           \"总蛋白\",\"白蛋白\" ,\"球蛋白\" , \"白蛋白球蛋白比\",\"谷丙转氨酶\",\"谷草转氨酶\",\"总胆红素\",\"直接胆红素\" ,\"间接胆红素\" ,\"碱性磷酸酶\" , \"r.谷氨酰基转移酶\" ,\n",
    "           \"尿素氮\" , \"肌酐\" , \"尿酸\"  ,  \"钾\"  , \"钠\"   ,  \"氯\"  ,\"总二氧化碳浓度\" ,\"手术时长\" ,\"住院天数\"]"
   ]
  },
  {
   "cell_type": "code",
   "execution_count": 31,
   "metadata": {},
   "outputs": [
    {
     "name": "stdout",
     "output_type": "stream",
     "text": [
      "感染             object\n",
      "性别             object\n",
      "年龄              int64\n",
      "身高            float64\n",
      "体重            float64\n",
      "               ...   \n",
      "有无进重症室         object\n",
      "抗菌药物使用         object\n",
      "联合用药           object\n",
      "治疗用药已送细菌培养     object\n",
      "住院天数            int64\n",
      "Length: 61, dtype: object\n"
     ]
    }
   ],
   "source": [
    "# 查看每列的数据类型\n",
    "data_types = df.dtypes\n",
    "print(data_types)\n"
   ]
  },
  {
   "cell_type": "code",
   "execution_count": 32,
   "metadata": {},
   "outputs": [],
   "source": [
    "X = df.drop(['感染'], axis=1)\n",
    "y_1 = df['感染']"
   ]
  },
  {
   "cell_type": "code",
   "execution_count": 33,
   "metadata": {},
   "outputs": [],
   "source": [
    "from sklearn.preprocessing import LabelEncoder\n",
    "\n",
    "# 创建LabelEncoder对象\n",
    "label_encoder = LabelEncoder()\n",
    "\n",
    "# 将目标变量编码为整数\n",
    "y = label_encoder.fit_transform(y_1)\n"
   ]
  },
  {
   "cell_type": "code",
   "execution_count": 34,
   "metadata": {},
   "outputs": [],
   "source": [
    "# from sklearn.preprocessing import StandardScaler, OrdinalEncoder\n",
    "# encoder = OrdinalEncoder()\n",
    "# X[cat_var]= encoder.fit_transform(X[cat_var])"
   ]
  },
  {
   "cell_type": "code",
   "execution_count": 35,
   "metadata": {},
   "outputs": [],
   "source": [
    "# import matplotlib.pyplot as plt\n",
    "# import seaborn as sns\n",
    "\n",
    "\n",
    "# # 计算相关矩阵\n",
    "# num_cols = X\n",
    "# corr_mat = num_cols.corr()\n",
    "\n",
    "# # 设置颜色映射和标签大小\n",
    "# cmap = sns.diverging_palette(220, 20, as_cmap=True)\n",
    "# sns.set(font_scale=1)\n",
    "\n",
    "# # 绘制相关矩阵图\n",
    "# plt.figure(figsize=(14,14))\n",
    "# sns.heatmap(corr_mat, annot=False, cmap=cmap, center=0, square=True)\n",
    "\n",
    "# # 应用中文和英文字体\n",
    "# plt.title(\"数值型变量相关矩阵\", fontsize=40, fontproperties=font_prop)  \n",
    "# plt.xticks(rotation=90, fontproperties=font_prop, fontsize=10)  \n",
    "# plt.yticks(rotation=0, fontproperties=font_prop, fontsize=10) \n",
    "\n",
    "# plt.tight_layout()\n",
    "# plt.show()\n",
    "\n",
    "# # 设定较低的阈值\n",
    "# threshold = 0.7\n",
    "\n",
    "# # 获取相关特征索引\n",
    "# related_feat_idxs = np.where(abs(corr_mat) > threshold)\n",
    "# related_feat_pairs = list(zip(related_feat_idxs[0], related_feat_idxs[1]))\n",
    "\n",
    "# # 获取待移除的相关特征的索引\n",
    "# features_to_remove = set()\n",
    "# for i, j in related_feat_pairs:\n",
    "#     if i != j and i not in features_to_remove and j not in features_to_remove:\n",
    "#         features_to_remove.add(j)\n",
    "\n",
    "# # 移除相关列\n",
    "# X2 = X.drop(X.columns[list(features_to_remove)], axis=1)\n",
    "\n",
    "# # 确认结果\n",
    "# print(\"Original Shape:\", X.shape)\n",
    "# print(\"New Shape after Removing Correlated Features:\", X2.shape)\n",
    "# print(\"features to remove\",X.columns[list(features_to_remove)])\n",
    "# # 输出最终保留的变量名\n",
    "# print(\"Final Features:\", X2.columns)"
   ]
  },
  {
   "cell_type": "code",
   "execution_count": 36,
   "metadata": {},
   "outputs": [],
   "source": [
    "X_dropped = X.drop(['谷草转氨酶', '联合用药'], axis=1)\n"
   ]
  },
  {
   "cell_type": "code",
   "execution_count": 37,
   "metadata": {},
   "outputs": [],
   "source": [
    "X_train, X_test, Ytrain, Ytest = train_test_split(X_dropped, y, test_size=0.3, random_state=42)"
   ]
  },
  {
   "cell_type": "code",
   "execution_count": 38,
   "metadata": {},
   "outputs": [],
   "source": [
    "cat_var2 =[\"性别\" , \"高血压\" ,\"糖尿病\" , \"肿瘤\" , \"吸烟\" , \"饮酒\"  , \"睡眠情况\",\"有创操作\"  ,   \"泌尿道插管\" ,  \n",
    "        \"气管插管\",\"动静脉导管\", \"血培养\"  , \"尿常规\"    ,  \"大便常规\", \"细菌培养\" ,\"降钙素原\"  , \"血清白细胞介素6\", \"切口类型\"  , \"有无进重症室\",  \"抗菌药物使用\" , \"治疗用药已送细菌培养\"]\n",
    "\n",
    "num_var2= [\"年龄\" , \"身高\" ,\"体重\"  , \"BMI\" , \"并发症种类\" ,\"体温\", \"脉搏\",\"呼吸\",\"收缩压\"  ,\"舒张压\",\n",
    "           \"睡眠时间\" ,\"营养筛查NRS\",\"白细胞\",\"中性粒细胞绝对值\" ,\"淋巴细胞绝对值\",\"红细胞\",\"血红蛋白\" ,\"血小板\" ,\n",
    "           \"总蛋白\",\"白蛋白\" ,\"球蛋白\" , \"白蛋白球蛋白比\",\"谷丙转氨酶\",\"总胆红素\",\"直接胆红素\" ,\"间接胆红素\" ,\"碱性磷酸酶\" , \"r.谷氨酰基转移酶\" ,\n",
    "           \"尿素氮\" , \"肌酐\" , \"尿酸\"  ,  \"钾\"  , \"钠\"   ,  \"氯\"  ,\"总二氧化碳浓度\" ,\"手术时长\" ,\"住院天数\"]"
   ]
  },
  {
   "cell_type": "code",
   "execution_count": 39,
   "metadata": {},
   "outputs": [],
   "source": [
    "from sklearn.preprocessing import OrdinalEncoder\n",
    "\n",
    "encoder = OrdinalEncoder()\n",
    "# Fit the encoder on the training set and transform it\n",
    "cat_Train = encoder.fit_transform(X_train[cat_var2])\n",
    "\n",
    "# Transform the test set based on the encoder fitted on the training set\n",
    "cat_Test = encoder.transform(X_test[cat_var2])\n"
   ]
  },
  {
   "cell_type": "code",
   "execution_count": 40,
   "metadata": {},
   "outputs": [
    {
     "name": "stdout",
     "output_type": "stream",
     "text": [
      "Feature '性别' mapping: {'女': 0, '男': 1}\n",
      "Feature '高血压' mapping: {'否': 0, '是': 1}\n",
      "Feature '糖尿病' mapping: {'否': 0, '是': 1}\n",
      "Feature '肿瘤' mapping: {'否': 0, '是': 1}\n",
      "Feature '吸烟' mapping: {'否': 0, '是': 1}\n",
      "Feature '饮酒' mapping: {'否': 0, '是': 1}\n",
      "Feature '睡眠情况' mapping: {'不正常': 0, '正常': 1}\n",
      "Feature '有创操作' mapping: {'否': 0, '是': 1}\n",
      "Feature '泌尿道插管' mapping: {'否': 0, '是': 1}\n",
      "Feature '气管插管' mapping: {'否': 0, '是': 1}\n",
      "Feature '动静脉导管' mapping: {'否': 0, '是': 1}\n",
      "Feature '血培养' mapping: {'否': 0, '是': 1}\n",
      "Feature '尿常规' mapping: {'否': 0, '是': 1}\n",
      "Feature '大便常规' mapping: {'否': 0, '是': 1}\n",
      "Feature '细菌培养' mapping: {'否': 0, '是': 1}\n",
      "Feature '降钙素原' mapping: {'偏高': 0, '正常': 1}\n",
      "Feature '血清白细胞介素6' mapping: {'偏高': 0, '正常': 1}\n",
      "Feature '切口类型' mapping: {0: 0, 1: 1, 2: 2, 3: 3, 4: 4}\n",
      "Feature '有无进重症室' mapping: {'否': 0, '是': 1}\n",
      "Feature '抗菌药物使用' mapping: {'否': 0, '是': 1}\n",
      "Feature '治疗用药已送细菌培养' mapping: {'否': 0, '是': 1}\n"
     ]
    }
   ],
   "source": [
    "# 打印出每个特征的映射关系\n",
    "for i, cat in enumerate(cat_var2):\n",
    "    mapping = {category: index for index, category in enumerate(encoder.categories_[i])}\n",
    "    print(f\"Feature '{cat}' mapping: {mapping}\")"
   ]
  },
  {
   "cell_type": "code",
   "execution_count": 41,
   "metadata": {},
   "outputs": [],
   "source": [
    "from sklearn.preprocessing import StandardScaler\n",
    "num_train=X_train[num_var2]\n",
    "num_test=X_test[num_var2]\n",
    "# 初始化特征缩放器\n",
    "scaler = StandardScaler()\n",
    "\n",
    "# 对训练集进行拟合和转换\n",
    "X_train_scaled = scaler.fit_transform(num_train)\n",
    "\n",
    "# 对测试集进行转换（只使用transform，不重新拟合）\n",
    "X_test_scaled = scaler.transform(num_test)\n",
    "X_test_scaled_df = pd.DataFrame(X_test_scaled, columns=num_var2)\n",
    "X_train_scaled_df = pd.DataFrame(X_train_scaled, columns=num_var2)\n",
    "\n",
    "cat_Test_df = pd.DataFrame(cat_Test, columns=cat_var2)\n",
    "cat_Train_df = pd.DataFrame(cat_Train, columns=cat_var2)"
   ]
  },
  {
   "cell_type": "code",
   "execution_count": 42,
   "metadata": {},
   "outputs": [
    {
     "name": "stdout",
     "output_type": "stream",
     "text": [
      "<class 'pandas.core.frame.DataFrame'>\n",
      "<class 'pandas.core.frame.DataFrame'>\n"
     ]
    }
   ],
   "source": [
    "print(type(cat_Test_df))  # 查看 cat_Test 的数据类型\n",
    "print(type(X_test_scaled_df))  # 查看 X_test_scaled_df 的数据类型"
   ]
  },
  {
   "cell_type": "code",
   "execution_count": 43,
   "metadata": {},
   "outputs": [],
   "source": [
    "Xtest = pd.concat([cat_Test_df, X_test_scaled_df], axis=1)\n",
    "Xtrain = pd.concat([cat_Train_df,X_train_scaled_df],axis=1)"
   ]
  },
  {
   "cell_type": "code",
   "execution_count": 23,
   "metadata": {},
   "outputs": [],
   "source": [
    "import matplotlib.pyplot as plt\n",
    "import numpy as np\n",
    "from sklearn.metrics import roc_auc_score, roc_curve\n",
    "from sklearn.model_selection import learning_curve\n",
    "from sklearn.calibration import calibration_curve\n",
    "\n",
    "\n",
    "def plot_evaluation_curves(model, X_train, y_train, X_test, y_test,y_pred,axes, algo_name):\n",
    "    # 计算训练数据预测概率\n",
    "    y_proba_train = model.predict_proba(X_train)[:, 1]\n",
    "    fpr_train, tpr_train, _ = roc_curve(y_train, y_proba_train)\n",
    "    auc_train = roc_auc_score(y_train, y_proba_train)\n",
    "\n",
    "    # 计算测试数据预测概率\n",
    "    y_proba_test = model.predict_proba(X_test)[:, 1]\n",
    "    fpr_test, tpr_test, _ = roc_curve(y_test, y_proba_test)\n",
    "    auc_test = roc_auc_score(y_test, y_proba_test)\n",
    "\n",
    "    # 绘制 ROC 曲线\n",
    "    axes[0].plot(fpr_train, tpr_train, label='Train ROC (AUC = {:.2f})'.format(auc_train))\n",
    "    axes[0].plot(fpr_test, tpr_test, label='Test ROC (AUC = {:.2f})'.format(auc_test))\n",
    "    axes[0].set_xlabel('False Positive Rate')\n",
    "    axes[0].set_ylabel('True Positive Rate')\n",
    "    axes[0].set_title('ROC Curve')\n",
    "    axes[0].legend()\n",
    "\n",
    "   \n",
    "    # 使用 learning_curve 函数生成学习曲线数据\n",
    "    train_sizes, train_scores, test_scores = learning_curve(\n",
    "        model, X_train, y_train, train_sizes=np.linspace(0.1, 1.0, 5), cv=5)\n",
    "\n",
    "    # 计算平均得分和标准差\n",
    "    train_scores_mean = np.mean(train_scores, axis=1)\n",
    "    train_scores_std = np.std(train_scores, axis=1)\n",
    "    test_scores_mean = np.mean(test_scores, axis=1)\n",
    "    test_scores_std = np.std(test_scores, axis=1)\n",
    "\n",
    "    # 绘制学习曲线\n",
    "    axes[1].set_title('Learning Curve')\n",
    "    axes[1].set_xlabel('Training Examples')\n",
    "    axes[1].set_ylabel('Score')\n",
    "    axes[1].grid()\n",
    "    axes[1].fill_between(train_sizes, train_scores_mean - train_scores_std,\n",
    "                         train_scores_mean + train_scores_std, alpha=0.1, color=\"r\")\n",
    "    axes[1].fill_between(train_sizes, test_scores_mean - test_scores_std,\n",
    "                         test_scores_mean + test_scores_std, alpha=0.1, color=\"g\")\n",
    "    axes[1].plot(train_sizes, train_scores_mean, 'o-', color=\"r\", label=\"Training Score\")\n",
    "    axes[1].plot(train_sizes, test_scores_mean, 'o-', color=\"g\", label=\"Cross-Validation Score\")\n",
    "    axes[1].legend(loc=\"best\")\n",
    "\n",
    "    # 添加主标题\n",
    "    plt.suptitle(f'{algo_name} Performance Evaluation', fontsize=14, fontweight='bold')\n",
    "\n",
    "    plt.tight_layout()\n",
    "\n",
    "n_trials = 30"
   ]
  },
  {
   "cell_type": "code",
   "execution_count": 44,
   "metadata": {},
   "outputs": [
    {
     "name": "stderr",
     "output_type": "stream",
     "text": [
      "[I 2024-01-15 22:53:06,413] A new study created in memory with name: no-name-e96815f5-3be7-4eff-b807-8e35abf09813\n"
     ]
    },
    {
     "name": "stdout",
     "output_type": "stream",
     "text": [
      "Optimizing CatBoostClassifier...\n"
     ]
    },
    {
     "name": "stderr",
     "output_type": "stream",
     "text": [
      "[I 2024-01-15 22:53:10,640] Trial 0 finished with value: 0.9847943595769684 and parameters: {'depth': 3, 'learning_rate': 0.013264452018603231, 'random_strength': 10, 'iterations': 477}. Best is trial 0 with value: 0.9847943595769684.\n",
      "[I 2024-01-15 22:53:14,597] Trial 1 finished with value: 0.991310223266745 and parameters: {'depth': 5, 'learning_rate': 0.17801380045254606, 'random_strength': 4, 'iterations': 327}. Best is trial 1 with value: 0.991310223266745.\n",
      "[I 2024-01-15 22:54:54,854] Trial 2 finished with value: 0.9717743830787308 and parameters: {'depth': 11, 'learning_rate': 0.0014076000967357994, 'random_strength': 7, 'iterations': 256}. Best is trial 1 with value: 0.991310223266745.\n",
      "[I 2024-01-15 22:55:02,635] Trial 3 finished with value: 0.9717743830787308 and parameters: {'depth': 6, 'learning_rate': 0.0017131620474786743, 'random_strength': 3, 'iterations': 491}. Best is trial 1 with value: 0.991310223266745.\n",
      "[I 2024-01-15 22:55:33,191] Trial 4 finished with value: 0.9847884841363103 and parameters: {'depth': 9, 'learning_rate': 0.5052812338125855, 'random_strength': 7, 'iterations': 347}. Best is trial 1 with value: 0.991310223266745.\n",
      "[I 2024-01-15 22:55:37,875] Trial 5 finished with value: 0.9869623971797885 and parameters: {'depth': 5, 'learning_rate': 0.017143306057248387, 'random_strength': 9, 'iterations': 466}. Best is trial 1 with value: 0.991310223266745.\n",
      "[I 2024-01-15 22:55:47,126] Trial 6 finished with value: 0.9902232667450059 and parameters: {'depth': 7, 'learning_rate': 0.11569510059691425, 'random_strength': 9, 'iterations': 342}. Best is trial 1 with value: 0.991310223266745.\n",
      "[I 2024-01-15 22:55:47,817] Trial 7 finished with value: 0.9869623971797885 and parameters: {'depth': 3, 'learning_rate': 0.056028664868482056, 'random_strength': 5, 'iterations': 117}. Best is trial 1 with value: 0.991310223266745.\n",
      "[I 2024-01-15 22:56:34,364] Trial 8 finished with value: 0.9837074030552291 and parameters: {'depth': 10, 'learning_rate': 0.06562073013161895, 'random_strength': 2, 'iterations': 222}. Best is trial 1 with value: 0.991310223266745.\n",
      "[I 2024-01-15 23:00:01,425] Trial 9 finished with value: 0.9804465334900119 and parameters: {'depth': 11, 'learning_rate': 0.3940632767770568, 'random_strength': 5, 'iterations': 478}. Best is trial 1 with value: 0.991310223266745.\n",
      "[I 2024-01-15 23:00:01,818] Trial 10 finished with value: 0.9902291421856638 and parameters: {'depth': 2, 'learning_rate': 0.22999335987762617, 'random_strength': 1, 'iterations': 63}. Best is trial 1 with value: 0.991310223266745.\n",
      "[I 2024-01-15 23:00:02,388] Trial 11 finished with value: 0.9902291421856638 and parameters: {'depth': 2, 'learning_rate': 0.2334107289063986, 'random_strength': 1, 'iterations': 89}. Best is trial 1 with value: 0.991310223266745.\n",
      "[I 2024-01-15 23:00:03,927] Trial 12 finished with value: 0.9891363102232666 and parameters: {'depth': 4, 'learning_rate': 0.9449321121967016, 'random_strength': 3, 'iterations': 190}. Best is trial 1 with value: 0.991310223266745.\n",
      "[I 2024-01-15 23:00:05,285] Trial 13 finished with value: 0.9902232667450059 and parameters: {'depth': 2, 'learning_rate': 0.15744718790853587, 'random_strength': 1, 'iterations': 342}. Best is trial 1 with value: 0.991310223266745.\n",
      "[I 2024-01-15 23:00:13,441] Trial 14 finished with value: 0.9858813160987074 and parameters: {'depth': 8, 'learning_rate': 0.025593304955218662, 'random_strength': 4, 'iterations': 163}. Best is trial 1 with value: 0.991310223266745.\n",
      "[I 2024-01-15 23:00:14,135] Trial 15 finished with value: 0.9880493537015276 and parameters: {'depth': 5, 'learning_rate': 0.07614542967699496, 'random_strength': 3, 'iterations': 56}. Best is trial 1 with value: 0.991310223266745.\n",
      "[I 2024-01-15 23:00:17,138] Trial 16 finished with value: 0.98262044653349 and parameters: {'depth': 4, 'learning_rate': 0.006180658545280749, 'random_strength': 7, 'iterations': 399}. Best is trial 1 with value: 0.991310223266745.\n",
      "[I 2024-01-15 23:00:21,902] Trial 17 finished with value: 0.9880493537015276 and parameters: {'depth': 6, 'learning_rate': 0.29668161974580776, 'random_strength': 2, 'iterations': 295}. Best is trial 1 with value: 0.991310223266745.\n",
      "[I 2024-01-15 23:00:23,101] Trial 18 finished with value: 0.9880493537015276 and parameters: {'depth': 2, 'learning_rate': 0.9604577773487298, 'random_strength': 6, 'iterations': 285}. Best is trial 1 with value: 0.991310223266745.\n",
      "[I 2024-01-15 23:00:34,069] Trial 19 finished with value: 0.9869623971797884 and parameters: {'depth': 7, 'learning_rate': 0.14629135970007176, 'random_strength': 4, 'iterations': 405}. Best is trial 1 with value: 0.991310223266745.\n",
      "[I 2024-01-15 23:00:35,538] Trial 20 finished with value: 0.9891363102232666 and parameters: {'depth': 4, 'learning_rate': 0.038456638024822735, 'random_strength': 1, 'iterations': 188}. Best is trial 1 with value: 0.991310223266745.\n",
      "[I 2024-01-15 23:00:35,824] Trial 21 finished with value: 0.9913160987074029 and parameters: {'depth': 2, 'learning_rate': 0.23747883972313705, 'random_strength': 1, 'iterations': 54}. Best is trial 21 with value: 0.9913160987074029.\n",
      "[I 2024-01-15 23:00:36,615] Trial 22 finished with value: 0.9880493537015276 and parameters: {'depth': 3, 'learning_rate': 0.425963710384079, 'random_strength': 2, 'iterations': 139}. Best is trial 21 with value: 0.9913160987074029.\n",
      "[I 2024-01-15 23:00:36,964] Trial 23 finished with value: 0.9891363102232666 and parameters: {'depth': 2, 'learning_rate': 0.18541432034190175, 'random_strength': 1, 'iterations': 59}. Best is trial 21 with value: 0.9913160987074029.\n",
      "[I 2024-01-15 23:00:38,337] Trial 24 finished with value: 0.9902232667450057 and parameters: {'depth': 5, 'learning_rate': 0.1002661363998812, 'random_strength': 4, 'iterations': 111}. Best is trial 21 with value: 0.9913160987074029.\n",
      "[I 2024-01-15 23:00:39,588] Trial 25 finished with value: 0.9869741480611045 and parameters: {'depth': 3, 'learning_rate': 0.5471350795679235, 'random_strength': 2, 'iterations': 246}. Best is trial 21 with value: 0.9913160987074029.\n",
      "[I 2024-01-15 23:00:40,336] Trial 26 finished with value: 0.9902232667450059 and parameters: {'depth': 4, 'learning_rate': 0.23422927495898746, 'random_strength': 3, 'iterations': 96}. Best is trial 21 with value: 0.9913160987074029.\n",
      "[I 2024-01-15 23:00:41,333] Trial 27 finished with value: 0.9923971797884841 and parameters: {'depth': 6, 'learning_rate': 0.6045560827352852, 'random_strength': 2, 'iterations': 50}. Best is trial 27 with value: 0.9923971797884841.\n",
      "[I 2024-01-15 23:00:57,135] Trial 28 finished with value: 0.9880434782608696 and parameters: {'depth': 8, 'learning_rate': 0.7525840853542148, 'random_strength': 4, 'iterations': 314}. Best is trial 27 with value: 0.9923971797884841.\n",
      "[I 2024-01-15 23:01:03,505] Trial 29 finished with value: 0.9880493537015276 and parameters: {'depth': 6, 'learning_rate': 0.009680403328528714, 'random_strength': 2, 'iterations': 400}. Best is trial 27 with value: 0.9923971797884841.\n"
     ]
    },
    {
     "name": "stdout",
     "output_type": "stream",
     "text": [
      "Best parameters for CatBoostClassifier:\n",
      "{'depth': 6, 'learning_rate': 0.6045560827352852, 'random_strength': 2, 'iterations': 50}\n",
      "              precision    recall  f1-score   support\n",
      "\n",
      "           0       0.98      1.00      0.99       371\n",
      "           1       1.00      0.75      0.86        24\n",
      "\n",
      "    accuracy                           0.98       395\n",
      "   macro avg       0.99      0.88      0.92       395\n",
      "weighted avg       0.99      0.98      0.98       395\n",
      "\n"
     ]
    },
    {
     "data": {
      "image/png": "[encoded data removed]",
      "text/plain": [
       "<Figure size 1400x600 with 2 Axes>"
      ]
     },
     "metadata": {},
     "output_type": "display_data"
    }
   ],
   "source": [
    "def cat_objective(trial):\n",
    "    depth = trial.suggest_int(\"depth\", 2, 12)\n",
    "    learning_rate = trial.suggest_loguniform(\"learning_rate\", 1e-3, 1)\n",
    "    random_strength = trial.suggest_int(\"random_strength\", 1, 10)\n",
    "    iterations = trial.suggest_int(\"iterations\", 50, 500)\n",
    "    \n",
    "\n",
    "    model = CatBoostClassifier(\n",
    "        depth=depth,\n",
    "        learning_rate=learning_rate,\n",
    "        random_strength=random_strength,\n",
    "        iterations=iterations,                                                                                                                                                                                                                                                                                                                                                                                                                                                                                                                                                                                                                                                                                                                                                                                                                                                                                                                                             \n",
    "        silent=True\n",
    "    )\n",
    "    score = cross_val_score(model, Xtrain, Ytrain, cv=5, n_jobs=-1).mean()\n",
    "    return score\n",
    "\n",
    "print(\"Optimizing CatBoostClassifier...\")\n",
    "cat_study = optuna.create_study(direction=\"maximize\")\n",
    "cat_study.optimize(cat_objective, n_trials=n_trials)\n",
    "\n",
    "print(\"Best parameters for CatBoostClassifier:\")\n",
    "cat_best_params = cat_study.best_params\n",
    "print(cat_best_params)\n",
    "\n",
    "cat_clf = CatBoostClassifier(**cat_best_params, silent=True).fit(Xtrain, Ytrain)\n",
    "\n",
    "cat_clf.fit(Xtrain, Ytrain)\n",
    "\n",
    "# 使用模型进行预测\n",
    "y_pred = cat_clf.predict(Xtest)\n",
    "\n",
    "# --- Prediction and Accuracy ---\n",
    "y_pred_train = cat_clf.predict(Xtrain)\n",
    "y_pred_test = cat_clf.predict(Xtest)\n",
    "acc_train = accuracy_score(y_pred_train, Ytrain)*100\n",
    "acc_test = accuracy_score(y_pred_test, Ytest)*100\n",
    "    \n",
    "# --- Classification Report --- \n",
    "print(classification_report(Ytest, y_pred_test))\n",
    "    \n",
    "\n",
    "fig, axes = plt.subplots(1, 2, figsize=(14, 6))\n",
    "plot_evaluation_curves(cat_clf, Xtrain, Ytrain, Xtest, Ytest,y_pred, axes, algo_name=\"CatBoost\")\n",
    "plt.show()"
   ]
  },
  {
   "cell_type": "code",
   "execution_count": 36,
   "metadata": {},
   "outputs": [
    {
     "name": "stdout",
     "output_type": "stream",
     "text": [
      "Best Parameters:  {'max_depth': None, 'min_samples_leaf': 1, 'min_samples_split': 2, 'n_estimators': 50}\n",
      "Accuracy: 0.9620253164556962\n",
      "              precision    recall  f1-score   support\n",
      "\n",
      "           0       0.96      1.00      0.98       371\n",
      "           1       1.00      0.38      0.55        24\n",
      "\n",
      "    accuracy                           0.96       395\n",
      "   macro avg       0.98      0.69      0.76       395\n",
      "weighted avg       0.96      0.96      0.95       395\n",
      "\n"
     ]
    }
   ],
   "source": [
    "from sklearn.ensemble import RandomForestClassifier\n",
    "from sklearn.model_selection import StratifiedKFold, GridSearchCV\n",
    "from sklearn.feature_selection import RFECV\n",
    "\n",
    "# 初始化随机森林模型\n",
    "model = RandomForestClassifier(random_state=42, class_weight='balanced')\n",
    "\n",
    "# 定义超参数网格\n",
    "param_grid = {\n",
    "    'n_estimators': [50, 100, 200],\n",
    "    'max_depth': [None, 10, 20, 30],\n",
    "    'min_samples_split': [2, 5, 10],\n",
    "    'min_samples_leaf': [1, 2, 4]\n",
    "}\n",
    "\n",
    "# 初始化RFECV\n",
    "rfecv = RFECV(estimator=model, step=1, cv=StratifiedKFold(5), scoring='roc_auc', n_jobs=14)\n",
    "\n",
    "# 创建包含 RFECV 和 GridSearchCV 的管道\n",
    "from sklearn.pipeline import Pipeline\n",
    "pipeline = Pipeline([\n",
    "    ('feature_selection', rfecv),\n",
    "    ('classification', GridSearchCV(model, param_grid=param_grid, cv=StratifiedKFold(5), scoring='roc_auc', n_jobs=14))\n",
    "])\n",
    "\n",
    "# 使用管道进行特征选择和模型选择\n",
    "pipeline.fit(Xtrain, y_train)\n",
    "\n",
    "# 输出最佳超参数组合\n",
    "print(\"Best Parameters: \", pipeline.named_steps['classification'].best_params_)\n",
    "\n",
    "# 获取最佳模型\n",
    "best_model = pipeline.named_steps['classification'].best_estimator_\n",
    "\n",
    "# 在测试集上应用 RFECV 特征选择\n",
    "X_test_rfecv = pipeline.named_steps['feature_selection'].transform(Xtest)\n",
    "\n",
    "# 使用最佳模型进行预测\n",
    "y_pred = best_model.predict(X_test_rfecv)\n",
    "\n",
    "\n",
    "# 在测试集上评估最佳模型性能\n",
    "from sklearn.metrics import accuracy_score, classification_report\n",
    "\n",
    "accuracy = accuracy_score(y_test, y_pred)\n",
    "report = classification_report(y_test, y_pred)\n",
    "print(\"Accuracy:\", accuracy)\n",
    "print(report)"
   ]
  },
  {
   "cell_type": "code",
   "execution_count": 37,
   "metadata": {},
   "outputs": [
    {
     "name": "stdout",
     "output_type": "stream",
     "text": [
      "Optimal Number of Features: 56\n",
      "Selected Features:\n",
      "['性别', '年龄', '身高', '体重', 'BMI', '高血压', '糖尿病', '并发症种类', '吸烟', '饮酒', '体温', '脉搏', '呼吸', '收缩压', '舒张压', '睡眠情况', '睡眠时间', '营养筛查NRS', '有创操作', '泌尿道插管', '气管插管', '动静脉导管', '血培养', '尿常规', '大便常规', '细菌培养', '白细胞', '中性粒细胞绝对值', '淋巴细胞绝对值', '红细胞', '血红蛋白', '血小板', '降钙素原', '血清白细胞介素6', '总蛋白', '白蛋白', '球蛋白', '白蛋白球蛋白比', '谷丙转氨酶', '谷草转氨酶', '总胆红素', '直接胆红素', '间接胆红素', '碱性磷酸酶', 'r.谷氨酰基转移酶', '尿素氮', '肌酐', '尿酸', '钾', '钠', '氯', '总二氧化碳浓度', '手术时长', '切口类型', '有无进重症室', '抗菌药物使用']\n"
     ]
    }
   ],
   "source": [
    "# 获取最佳特征数\n",
    "optimal_num_features = rfecv.n_features_\n",
    "print(\"Optimal Number of Features:\", optimal_num_features)\n",
    "\n",
    "# 假设你有原始的特征名称的列表\n",
    "original_feature_names = column_names\n",
    "\n",
    "# 使用已选择的特征布尔索引来获取已选择的特征名称\n",
    "selected_feature_names = [original_feature_names[i] for i in range(len(rfecv.support_)) if rfecv.support_[i]]\n",
    "\n",
    "print(\"Selected Features:\")\n",
    "print(selected_feature_names)"
   ]
  },
  {
   "cell_type": "markdown",
   "metadata": {},
   "source": [
    "Selected Features:\n",
    "['性别', '年龄', '身高', '体重', 'BMI', '高血压', '糖尿病', '并发症种类', '吸烟', '饮酒', '体温', '脉搏', '呼吸', '收缩压', '舒张压', '睡眠情况', '睡眠时间', '营养筛查NRS', '有创操作', '泌尿道插管', '气管插管', '动静脉导管', '血培养', '尿常规', '大便常规', '细菌培养', '白细胞', '中性粒细胞绝对值', '淋巴细胞绝对值', '红细胞', '血红蛋白', '血小板', '降钙素原', '血清白细胞介素6', '总蛋白', '白蛋白', '球蛋白', '白蛋白球蛋白比', '谷丙转氨酶', '谷草转氨酶', '总胆红素', '直接胆红素', '间接胆红素', '碱性磷酸酶', 'r.谷氨酰基转移酶', '尿素氮', '肌酐', '尿酸', '钾', '钠', '氯', '总二氧化碳浓度', '手术时长', '切口类型', '有无进重症室', '抗菌药物使用']"
   ]
  },
  {
   "cell_type": "code",
   "execution_count": 41,
   "metadata": {},
   "outputs": [
    {
     "data": {
      "image/png": "[encoded data removed]",
      "text/plain": [
       "<Figure size 1000x600 with 1 Axes>"
      ]
     },
     "metadata": {},
     "output_type": "display_data"
    }
   ],
   "source": [
    "import matplotlib.pyplot as plt\n",
    "\n",
    "# 获取 RFECV 的结果\n",
    "rfecv_results = rfecv.cv_results_\n",
    "\n",
    "# 获取每个特征数量\n",
    "num_features = range(1, len(rfecv_results['mean_test_score']) + 1)\n",
    "\n",
    "# 创建一个新的图形\n",
    "plt.figure(figsize=(10, 6))\n",
    "\n",
    "# 绘制特征数量与交叉验证得分的关系\n",
    "plt.plot(num_features, rfecv_results['mean_test_score'], marker='o', linestyle='-', color='b')\n",
    "\n",
    "# 添加标题和标签\n",
    "plt.title('递归特征消除交叉验证（RFECV）：特征数量与交叉验证得分关系图', fontproperties=font_prop)\n",
    "plt.xlabel('特征数量', fontproperties=font_prop)\n",
    "plt.ylabel('交叉验证得分 (F1)', fontproperties=font_prop)\n",
    "\n",
    "# 显示网格线\n",
    "plt.grid(True)\n",
    "\n",
    "\n",
    "\n",
    "# 显示图形\n",
    "plt.show()"
   ]
  },
  {
   "cell_type": "code",
   "execution_count": 39,
   "metadata": {},
   "outputs": [],
   "source": [
    "color_grid = 'gray'  # 根据需求选择合适的颜色值\n",
    "color_line = 'black'\n",
    "# --- Figures Settings ---\n",
    "xy_label = dict(fontweight='bold', fontsize=12)\n",
    "grid_style = dict(color=color_grid, linestyle='dotted', zorder=1)\n",
    "title_style = dict(fontsize=14, fontweight='bold')\n",
    "tick_params = dict(length=3, width=1, color=color_line)\n",
    "color_yb = ['blue', 'yellow']"
   ]
  },
  {
   "cell_type": "code",
   "execution_count": null,
   "metadata": {},
   "outputs": [],
   "source": []
  }
 ],
 "metadata": {
  "kernelspec": {
   "display_name": "Python 3",
   "language": "python",
   "name": "python3"
  },
  "language_info": {
   "codemirror_mode": {
    "name": "ipython",
    "version": 3
   },
   "file_extension": ".py",
   "mimetype": "text/x-python",
   "name": "python",
   "nbconvert_exporter": "python",
   "pygments_lexer": "ipython3",
   "version": "3.10.8"
  },
  "orig_nbformat": 4
 },
 "nbformat": 4,
 "nbformat_minor": 2
}
